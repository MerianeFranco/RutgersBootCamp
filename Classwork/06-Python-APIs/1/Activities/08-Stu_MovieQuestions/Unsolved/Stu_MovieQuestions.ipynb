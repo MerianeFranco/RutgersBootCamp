{
 "cells": [
  {
   "cell_type": "code",
   "execution_count": 1,
   "metadata": {},
   "outputs": [],
   "source": [
    "# Dependencies\n",
    "import requests\n",
    "from config import api_key\n",
    "from pprint import pprint\n",
    "\n",
    "url = \"http://www.omdbapi.com/?t=\"\n",
    "api_key = \"&apikey=\" + api_key"
   ]
  },
  {
   "cell_type": "code",
   "execution_count": 3,
   "metadata": {},
   "outputs": [
    {
     "name": "stdout",
     "output_type": "stream",
     "text": [
      "{'Actors': 'Sigourney Weaver, Carrie Henn, Michael Biehn, Paul Reiser',\n",
      " 'Awards': 'Won 2 Oscars. Another 18 wins & 23 nominations.',\n",
      " 'BoxOffice': '$85,160,248',\n",
      " 'Country': 'USA',\n",
      " 'DVD': '25 Nov 2015',\n",
      " 'Director': 'James Cameron',\n",
      " 'Genre': 'Action, Adventure, Sci-Fi, Thriller',\n",
      " 'Language': 'English',\n",
      " 'Metascore': '84',\n",
      " 'Plot': 'Fifty-seven years after surviving an apocalyptic attack aboard her '\n",
      "         'space vessel by merciless space creatures, Officer Ripley awakens '\n",
      "         'from hyper-sleep and tries to warn anyone who will listen about the '\n",
      "         'predators.',\n",
      " 'Poster': 'https://m.media-amazon.com/images/M/MV5BZGU2OGY5ZTYtMWNhYy00NjZiLWI0NjUtZmNhY2JhNDRmODU3XkEyXkFqcGdeQXVyNzkwMjQ5NzM@._V1_SX300.jpg',\n",
      " 'Production': 'Twentieth Century Fox, Brandywine Productions',\n",
      " 'Rated': 'R',\n",
      " 'Ratings': [{'Source': 'Internet Movie Database', 'Value': '8.3/10'},\n",
      "             {'Source': 'Rotten Tomatoes', 'Value': '97%'},\n",
      "             {'Source': 'Metacritic', 'Value': '84/100'}],\n",
      " 'Released': '18 Jul 1986',\n",
      " 'Response': 'True',\n",
      " 'Runtime': '137 min',\n",
      " 'Title': 'Aliens',\n",
      " 'Type': 'movie',\n",
      " 'Website': 'N/A',\n",
      " 'Writer': 'James Cameron (story by), David Giler (story by), Walter Hill '\n",
      "           \"(story by), Dan O'Bannon (based on characters created by), Ronald \"\n",
      "           'Shusett (based on characters created by), James Cameron '\n",
      "           '(screenplay by)',\n",
      " 'Year': '1986',\n",
      " 'imdbID': 'tt0090605',\n",
      " 'imdbRating': '8.3',\n",
      " 'imdbVotes': '654,147'}\n"
     ]
    }
   ],
   "source": [
    "# Who was the director of the movie Aliens?\n",
    "\n",
    "movie = 'Aliens'\n",
    "response = requests.get(url + movie + api_key)\n",
    "data = response.json()\n",
    "pprint(data)"
   ]
  },
  {
   "cell_type": "code",
   "execution_count": 5,
   "metadata": {},
   "outputs": [
    {
     "name": "stdout",
     "output_type": "stream",
     "text": [
      "Aliens was directed by James Cameron.\n",
      "Movie was released in USA.\n"
     ]
    }
   ],
   "source": [
    "print(f\"{movie} was directed by {data['Director']}.\")\n",
    "\n",
    "print(f\"Movie was released in {data['Country']}.\")"
   ]
  },
  {
   "cell_type": "code",
   "execution_count": 6,
   "metadata": {
    "scrolled": true
   },
   "outputs": [
    {
     "name": "stdout",
     "output_type": "stream",
     "text": [
      "{'Actors': 'Russell Crowe, Joaquin Phoenix, Connie Nielsen, Oliver Reed',\n",
      " 'Awards': 'Won 5 Oscars. Another 54 wins & 105 nominations.',\n",
      " 'BoxOffice': '$187,705,427',\n",
      " 'Country': 'USA, UK, Malta, Morocco',\n",
      " 'DVD': '01 Aug 2013',\n",
      " 'Director': 'Ridley Scott',\n",
      " 'Genre': 'Action, Adventure, Drama',\n",
      " 'Language': 'English',\n",
      " 'Metascore': '67',\n",
      " 'Plot': 'A former Roman General sets out to exact vengeance against the '\n",
      "         'corrupt emperor who murdered his family and sent him into slavery.',\n",
      " 'Poster': 'https://m.media-amazon.com/images/M/MV5BMDliMmNhNDEtODUyOS00MjNlLTgxODEtN2U3NzIxMGVkZTA1L2ltYWdlXkEyXkFqcGdeQXVyNjU0OTQ0OTY@._V1_SX300.jpg',\n",
      " 'Production': 'Universal Pictures, Scott Free Productions, DreamWorks '\n",
      "               'Pictures',\n",
      " 'Rated': 'R',\n",
      " 'Ratings': [{'Source': 'Internet Movie Database', 'Value': '8.5/10'},\n",
      "             {'Source': 'Rotten Tomatoes', 'Value': '77%'},\n",
      "             {'Source': 'Metacritic', 'Value': '67/100'}],\n",
      " 'Released': '05 May 2000',\n",
      " 'Response': 'True',\n",
      " 'Runtime': '155 min',\n",
      " 'Title': 'Gladiator',\n",
      " 'Type': 'movie',\n",
      " 'Website': 'N/A',\n",
      " 'Writer': 'David Franzoni (story), David Franzoni (screenplay), John Logan '\n",
      "           '(screenplay), William Nicholson (screenplay)',\n",
      " 'Year': '2000',\n",
      " 'imdbID': 'tt0172495',\n",
      " 'imdbRating': '8.5',\n",
      " 'imdbVotes': '1,344,599'}\n",
      "Gladiator was rated R.\n"
     ]
    }
   ],
   "source": [
    "# What was the movie Gladiator rated?\n",
    "movie = \"Gladiator\"\n",
    "\n",
    "response = requests.get(url + movie + api_key)\n",
    "data = response.json()\n",
    "pprint(data)\n",
    "\n",
    "print(f\"{movie} was rated {data['Rated']}.\")"
   ]
  },
  {
   "cell_type": "code",
   "execution_count": 7,
   "metadata": {},
   "outputs": [
    {
     "name": "stdout",
     "output_type": "stream",
     "text": [
      "50 First Dates was released 13 Feb 2004.\n"
     ]
    }
   ],
   "source": [
    "# What year was 50 First Dates released?\n",
    "movie = \"50 First Dates\"\n",
    "\n",
    "response = requests.get(url + movie + api_key)\n",
    "data = response.json()\n",
    "#pprint(data)\n",
    "\n",
    "print(f\"{movie} was released {data['Released']}.\")"
   ]
  },
  {
   "cell_type": "code",
   "execution_count": 33,
   "metadata": {
    "scrolled": true
   },
   "outputs": [
    {
     "name": "stdout",
     "output_type": "stream",
     "text": [
      "Moana was written by Jared Bush (screenplay by), Ron Clements (story by), John Musker (story by), Chris Williams (story by), Don Hall (story by), Pamela Ribon (story by), Aaron Kandell (story by), Jordan Kandell (story by).\n"
     ]
    }
   ],
   "source": [
    "# Who wrote Moana?\n",
    "movie = \"Moana\"\n",
    "\n",
    "response = requests.get(url + movie + api_key)\n",
    "data = response.json()\n",
    "#pprint(data)\n",
    "\n",
    "print(f\"{movie} was written by {data['Writer']}.\")"
   ]
  },
  {
   "cell_type": "code",
   "execution_count": 8,
   "metadata": {
    "scrolled": true
   },
   "outputs": [
    {
     "name": "stdout",
     "output_type": "stream",
     "text": [
      "{'Actors': 'Matthew McConaughey, Reese Witherspoon, Seth MacFarlane, Scarlett '\n",
      "           'Johansson',\n",
      " 'Awards': 'Nominated for 2 Golden Globes. Another 3 wins & 23 nominations.',\n",
      " 'BoxOffice': '$270,448,425',\n",
      " 'Country': 'USA, Japan',\n",
      " 'DVD': '08 Mar 2017',\n",
      " 'Director': 'Garth Jennings, Christophe Lourdelet(co-director)',\n",
      " 'Genre': 'Animation, Comedy, Family, Musical',\n",
      " 'Language': 'English, Japanese, Ukrainian',\n",
      " 'Metascore': '59',\n",
      " 'Plot': \"In a city of humanoid animals, a hustling theater impresario's \"\n",
      "         'attempt to save his theater with a singing competition becomes '\n",
      "         'grander than he anticipates even as its finalists find that their '\n",
      "         'lives will never be the same.',\n",
      " 'Poster': 'https://m.media-amazon.com/images/M/MV5BMTYzODYzODU2Ml5BMl5BanBnXkFtZTgwNTc1MTA2NzE@._V1_SX300.jpg',\n",
      " 'Production': 'Chris Meledandri',\n",
      " 'Rated': 'PG',\n",
      " 'Ratings': [{'Source': 'Internet Movie Database', 'Value': '7.1/10'},\n",
      "             {'Source': 'Rotten Tomatoes', 'Value': '72%'},\n",
      "             {'Source': 'Metacritic', 'Value': '59/100'}],\n",
      " 'Released': '21 Dec 2016',\n",
      " 'Response': 'True',\n",
      " 'Runtime': '108 min',\n",
      " 'Title': 'Sing',\n",
      " 'Type': 'movie',\n",
      " 'Website': 'N/A',\n",
      " 'Writer': 'Garth Jennings',\n",
      " 'Year': '2016',\n",
      " 'imdbID': 'tt3470600',\n",
      " 'imdbRating': '7.1',\n",
      " 'imdbVotes': '134,434'}\n",
      "Sing plot In a city of humanoid animals, a hustling theater impresario's attempt to save his theater with a singing competition becomes grander than he anticipates even as its finalists find that their lives will never be the same..\n"
     ]
    }
   ],
   "source": [
    "# What was the plot of the movie Sing?\n",
    "movie = \"Sing\"\n",
    "\n",
    "\n",
    "\n",
    "response = requests.get(url + movie + api_key)\n",
    "data = response.json()\n",
    "pprint(data)\n",
    "\n",
    "print(f\"{movie} plot {data['Plot']}.\")"
   ]
  },
  {
   "cell_type": "code",
   "execution_count": null,
   "metadata": {},
   "outputs": [],
   "source": []
  }
 ],
 "metadata": {
  "kernelspec": {
   "display_name": "Python 3",
   "language": "python",
   "name": "python3"
  },
  "language_info": {
   "codemirror_mode": {
    "name": "ipython",
    "version": 3
   },
   "file_extension": ".py",
   "mimetype": "text/x-python",
   "name": "python",
   "nbconvert_exporter": "python",
   "pygments_lexer": "ipython3",
   "version": "3.8.5"
  },
  "varInspector": {
   "cols": {
    "lenName": 16,
    "lenType": 16,
    "lenVar": 40
   },
   "kernels_config": {
    "python": {
     "delete_cmd_postfix": "",
     "delete_cmd_prefix": "del ",
     "library": "var_list.py",
     "varRefreshCmd": "print(var_dic_list())"
    },
    "r": {
     "delete_cmd_postfix": ") ",
     "delete_cmd_prefix": "rm(",
     "library": "var_list.r",
     "varRefreshCmd": "cat(var_dic_list()) "
    }
   },
   "types_to_exclude": [
    "module",
    "function",
    "builtin_function_or_method",
    "instance",
    "_Feature"
   ],
   "window_display": false
  }
 },
 "nbformat": 4,
 "nbformat_minor": 2
}
