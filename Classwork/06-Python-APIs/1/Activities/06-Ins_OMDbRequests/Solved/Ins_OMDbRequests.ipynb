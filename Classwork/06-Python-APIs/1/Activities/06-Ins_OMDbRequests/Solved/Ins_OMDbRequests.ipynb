{
 "cells": [
  {
   "cell_type": "code",
   "execution_count": 1,
   "metadata": {},
   "outputs": [],
   "source": [
    "import requests\n",
    "import json\n",
    "from config import api_key"
   ]
  },
  {
   "cell_type": "code",
   "execution_count": 2,
   "metadata": {},
   "outputs": [],
   "source": [
    "# New Dependency! Use this to pretty print the JSON\n",
    "# https://docs.python.org/3/library/pprint.html\n",
    "from pprint import pprint"
   ]
  },
  {
   "cell_type": "code",
   "execution_count": 3,
   "metadata": {},
   "outputs": [],
   "source": [
    "# Note that the ?t= is a query param for the t-itle of the\n",
    "# movie we want to search for.\n",
    "url = \"http://www.omdbapi.com/?t=\"\n",
    "api_key = \"&apikey=\" + api_key"
   ]
  },
  {
   "cell_type": "code",
   "execution_count": 12,
   "metadata": {},
   "outputs": [],
   "source": [
    "# Performing a GET request similar to the one we executed\n",
    "# earlier\n",
    "response = requests.get(url + \"Moana\" + api_key)"
   ]
  },
  {
   "cell_type": "code",
   "execution_count": 13,
   "metadata": {},
   "outputs": [
    {
     "name": "stdout",
     "output_type": "stream",
     "text": [
      "{'Actors': \"Auli'i Cravalho, Dwayne Johnson, Rachel House, Temuera Morrison\",\n",
      " 'Awards': 'Nominated for 2 Oscars. Another 20 wins & 85 nominations.',\n",
      " 'BoxOffice': '$248,757,044',\n",
      " 'Country': 'USA',\n",
      " 'DVD': '21 Feb 2017',\n",
      " 'Director': 'Ron Clements, John Musker, Don Hall(co-director), Chris '\n",
      "             'Williams(co-director)',\n",
      " 'Genre': 'Animation, Adventure, Comedy, Family, Fantasy, Musical',\n",
      " 'Language': 'English, French',\n",
      " 'Metascore': '81',\n",
      " 'Plot': 'In Ancient Polynesia, when a terrible curse incurred by the Demigod '\n",
      "         \"Maui reaches Moana's island, she answers the Ocean's call to seek \"\n",
      "         'out the Demigod to set things right.',\n",
      " 'Poster': 'https://m.media-amazon.com/images/M/MV5BMjI4MzU5NTExNF5BMl5BanBnXkFtZTgwNzY1MTEwMDI@._V1_SX300.jpg',\n",
      " 'Production': 'Walt Disney Animation Studios',\n",
      " 'Rated': 'PG',\n",
      " 'Ratings': [{'Source': 'Internet Movie Database', 'Value': '7.6/10'},\n",
      "             {'Source': 'Rotten Tomatoes', 'Value': '95%'},\n",
      "             {'Source': 'Metacritic', 'Value': '81/100'}],\n",
      " 'Released': '23 Nov 2016',\n",
      " 'Response': 'True',\n",
      " 'Runtime': '107 min',\n",
      " 'Title': 'Moana',\n",
      " 'Type': 'movie',\n",
      " 'Website': 'N/A',\n",
      " 'Writer': 'Jared Bush (screenplay by), Ron Clements (story by), John Musker '\n",
      "           '(story by), Chris Williams (story by), Don Hall (story by), Pamela '\n",
      "           'Ribon (story by), Aaron Kandell (story by), Jordan Kandell (story '\n",
      "           'by)',\n",
      " 'Year': '2016',\n",
      " 'imdbID': 'tt3521164',\n",
      " 'imdbRating': '7.6',\n",
      " 'imdbVotes': '274,673'}\n"
     ]
    }
   ],
   "source": [
    "# Converting the response to JSON, and printing the result.\n",
    "data = response.json()\n",
    "pprint(data)"
   ]
  },
  {
   "cell_type": "code",
   "execution_count": 14,
   "metadata": {},
   "outputs": [
    {
     "name": "stdout",
     "output_type": "stream",
     "text": [
      "Movie was directed by Ron Clements, John Musker, Don Hall(co-director), Chris Williams(co-director).\n",
      "Movie was released in USA.\n",
      "Movie was released in 23 Nov 2016.\n",
      "Movie was rated in {'Source': 'Metacritic', 'Value': '81/100'}.\n"
     ]
    }
   ],
   "source": [
    "# Print a few keys from the response JSON.\n",
    "print(f\"Movie was directed by {data['Director']}.\")\n",
    "print(f\"Movie was released in {data['Country']}.\")\n",
    "print(f\"Movie was released in {data['Released']}.\")\n",
    "print(f\"Movie was rated in {data['Ratings'][2]}.\")"
   ]
  },
  {
   "cell_type": "code",
   "execution_count": null,
   "metadata": {},
   "outputs": [],
   "source": []
  }
 ],
 "metadata": {
  "kernelspec": {
   "display_name": "Python 3",
   "language": "python",
   "name": "python3"
  },
  "language_info": {
   "codemirror_mode": {
    "name": "ipython",
    "version": 3
   },
   "file_extension": ".py",
   "mimetype": "text/x-python",
   "name": "python",
   "nbconvert_exporter": "python",
   "pygments_lexer": "ipython3",
   "version": "3.8.5"
  },
  "varInspector": {
   "cols": {
    "lenName": 16,
    "lenType": 16,
    "lenVar": 40
   },
   "kernels_config": {
    "python": {
     "delete_cmd_postfix": "",
     "delete_cmd_prefix": "del ",
     "library": "var_list.py",
     "varRefreshCmd": "print(var_dic_list())"
    },
    "r": {
     "delete_cmd_postfix": ") ",
     "delete_cmd_prefix": "rm(",
     "library": "var_list.r",
     "varRefreshCmd": "cat(var_dic_list()) "
    }
   },
   "types_to_exclude": [
    "module",
    "function",
    "builtin_function_or_method",
    "instance",
    "_Feature"
   ],
   "window_display": false
  }
 },
 "nbformat": 4,
 "nbformat_minor": 2
}
