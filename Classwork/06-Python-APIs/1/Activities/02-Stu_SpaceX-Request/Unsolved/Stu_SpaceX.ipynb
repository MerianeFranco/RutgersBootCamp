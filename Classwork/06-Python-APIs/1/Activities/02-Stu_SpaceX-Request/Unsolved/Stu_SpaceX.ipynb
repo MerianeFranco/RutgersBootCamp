{
 "cells": [
  {
   "cell_type": "code",
   "execution_count": 1,
   "metadata": {},
   "outputs": [],
   "source": [
    "# Dependencies\n",
    "import requests\n",
    "import json"
   ]
  },
  {
   "cell_type": "markdown",
   "metadata": {},
   "source": [
    "# URL for GET requests to retrieve vehicle data\n",
    "url = \"https://api.spacexdata.com/v3/launchpads\""
   ]
  },
  {
   "cell_type": "code",
   "execution_count": 6,
   "metadata": {},
   "outputs": [
    {
     "data": {
      "text/plain": [
       "[{'id': 5,\n",
       "  'name': 'VAFB SLC 3W',\n",
       "  'status': 'retired',\n",
       "  'location': {'name': 'Vandenberg Air Force Base',\n",
       "   'region': 'California',\n",
       "   'latitude': 34.6440904,\n",
       "   'longitude': -120.5931438},\n",
       "  'vehicles_launched': ['Falcon 1'],\n",
       "  'attempted_launches': 0,\n",
       "  'successful_launches': 0,\n",
       "  'wikipedia': 'https://en.wikipedia.org/wiki/Vandenberg_AFB_Space_Launch_Complex_3',\n",
       "  'details': 'SpaceX original west coast launch pad for Falcon 1. Performed a static fire but was never used for a launch and abandoned due to scheduling conflicts.',\n",
       "  'site_id': 'vafb_slc_3w',\n",
       "  'site_name_long': 'Vandenberg Air Force Base Space Launch Complex 3W'},\n",
       " {'id': 2,\n",
       "  'name': 'CCAFS SLC 40',\n",
       "  'status': 'active',\n",
       "  'location': {'name': 'Cape Canaveral',\n",
       "   'region': 'Florida',\n",
       "   'latitude': 28.5618571,\n",
       "   'longitude': -80.577366},\n",
       "  'vehicles_launched': ['Falcon 9'],\n",
       "  'attempted_launches': 61,\n",
       "  'successful_launches': 59,\n",
       "  'wikipedia': 'https://en.wikipedia.org/wiki/Cape_Canaveral_Air_Force_Station_Space_Launch_Complex_40',\n",
       "  'details': 'SpaceX primary Falcon 9 launch pad, where all east coast Falcon 9s launched prior to the AMOS-6 anomaly. Initially used to launch Titan rockets for Lockheed Martin. Back online since CRS-13 on 2017-12-15.',\n",
       "  'site_id': 'ccafs_slc_40',\n",
       "  'site_name_long': 'Cape Canaveral Air Force Station Space Launch Complex 40'},\n",
       " {'id': 8,\n",
       "  'name': 'STLS',\n",
       "  'status': 'under construction',\n",
       "  'location': {'name': 'Boca Chica Village',\n",
       "   'region': 'Texas',\n",
       "   'latitude': 25.9972641,\n",
       "   'longitude': -97.1560845},\n",
       "  'vehicles_launched': ['Falcon 9'],\n",
       "  'attempted_launches': 0,\n",
       "  'successful_launches': 0,\n",
       "  'wikipedia': 'https://en.wikipedia.org/wiki/SpaceX_South_Texas_Launch_Site',\n",
       "  'details': 'SpaceX new launch site currently under construction to help keep up with the Falcon 9 and Heavy manifests. Expected to be completed in late 2018. Initially will be limited to 12 flights per year, and only GTO launches.',\n",
       "  'site_id': 'stls',\n",
       "  'site_name_long': 'SpaceX South Texas Launch Site'},\n",
       " {'id': 1,\n",
       "  'name': 'Kwajalein Atoll',\n",
       "  'status': 'retired',\n",
       "  'location': {'name': 'Omelek Island',\n",
       "   'region': 'Marshall Islands',\n",
       "   'latitude': 9.0477206,\n",
       "   'longitude': 167.7431292},\n",
       "  'vehicles_launched': ['Falcon 1'],\n",
       "  'attempted_launches': 5,\n",
       "  'successful_launches': 2,\n",
       "  'wikipedia': 'https://en.wikipedia.org/wiki/Omelek_Island',\n",
       "  'details': 'SpaceX original launch site, where all of the Falcon 1 launches occured. Abandoned as SpaceX decided against upgrading the pad to support Falcon 9.',\n",
       "  'site_id': 'kwajalein_atoll',\n",
       "  'site_name_long': 'Kwajalein Atoll Omelek Island'},\n",
       " {'id': 6,\n",
       "  'name': 'VAFB SLC 4E',\n",
       "  'status': 'active',\n",
       "  'location': {'name': 'Vandenberg Air Force Base',\n",
       "   'region': 'California',\n",
       "   'latitude': 34.632093,\n",
       "   'longitude': -120.610829},\n",
       "  'vehicles_launched': ['Falcon 9'],\n",
       "  'attempted_launches': 16,\n",
       "  'successful_launches': 16,\n",
       "  'wikipedia': 'https://en.wikipedia.org/wiki/Vandenberg_AFB_Space_Launch_Complex_4',\n",
       "  'details': 'SpaceX primary west coast launch pad for polar orbits and sun synchronous orbits, primarily used for Iridium. Also intended to be capable of launching Falcon Heavy.',\n",
       "  'site_id': 'vafb_slc_4e',\n",
       "  'site_name_long': 'Vandenberg Air Force Base Space Launch Complex 4E'},\n",
       " {'id': 4,\n",
       "  'name': 'KSC LC 39A',\n",
       "  'status': 'active',\n",
       "  'location': {'name': 'Cape Canaveral',\n",
       "   'region': 'Florida',\n",
       "   'latitude': 28.6080585,\n",
       "   'longitude': -80.6039558},\n",
       "  'vehicles_launched': ['Falcon 9', 'Falcon Heavy'],\n",
       "  'attempted_launches': 27,\n",
       "  'successful_launches': 26,\n",
       "  'wikipedia': 'https://en.wikipedia.org/wiki/Kennedy_Space_Center_Launch_Complex_39#Launch_Complex_39A',\n",
       "  'details': 'NASA historic launch pad that launched most of the Saturn V and Space Shuttle missions. Initially for Falcon Heavy launches, it is now launching all of SpaceX east coast missions due to the damage from the AMOS-6 anomaly. After SLC-40 repairs are complete, it will be upgraded to support Falcon Heavy, a process which will take about two months. In the future it will launch commercial crew missions and the Interplanetary Transport System.',\n",
       "  'site_id': 'ksc_lc_39a',\n",
       "  'site_name_long': 'Kennedy Space Center Historic Launch Complex 39A'}]"
      ]
     },
     "execution_count": 6,
     "metadata": {},
     "output_type": "execute_result"
    }
   ],
   "source": [
    "# Pretty print JSON for all launchpads\n",
    "response = requests.get(url).json()\n",
    "response"
   ]
  },
  {
   "cell_type": "code",
   "execution_count": 4,
   "metadata": {},
   "outputs": [
    {
     "name": "stdout",
     "output_type": "stream",
     "text": [
      "{\n",
      "    \"attempted_launches\": 5,\n",
      "    \"details\": \"SpaceX original launch site, where all of the Falcon 1 launches occured. Abandoned as SpaceX decided against upgrading the pad to support Falcon 9.\",\n",
      "    \"id\": 1,\n",
      "    \"location\": {\n",
      "        \"latitude\": 9.0477206,\n",
      "        \"longitude\": 167.7431292,\n",
      "        \"name\": \"Omelek Island\",\n",
      "        \"region\": \"Marshall Islands\"\n",
      "    },\n",
      "    \"name\": \"Kwajalein Atoll\",\n",
      "    \"site_id\": \"kwajalein_atoll\",\n",
      "    \"site_name_long\": \"Kwajalein Atoll Omelek Island\",\n",
      "    \"status\": \"retired\",\n",
      "    \"successful_launches\": 2,\n",
      "    \"vehicles_launched\": [\n",
      "        \"Falcon 1\"\n",
      "    ],\n",
      "    \"wikipedia\": \"https://en.wikipedia.org/wiki/Omelek_Island\"\n",
      "}\n"
     ]
    }
   ],
   "source": [
    "# Pretty print JSON for a specific launchpad\n",
    "response = requests.get(url + \"/kwajalein_atoll\").json()\n",
    "print(json.dumps(response, indent=4, sort_keys=True))"
   ]
  },
  {
   "cell_type": "code",
   "execution_count": 8,
   "metadata": {},
   "outputs": [
    {
     "data": {
      "text/plain": [
       "[{'mission_name': 'Thaicom',\n",
       "  'mission_id': '9D1B7E0',\n",
       "  'manufacturers': ['Orbital ATK'],\n",
       "  'payload_ids': ['Thaicom 6', 'Thaicom 8'],\n",
       "  'wikipedia': 'https://en.wikipedia.org/wiki/Thaicom',\n",
       "  'website': 'http://www.thaicom.net/en/satellites/overview',\n",
       "  'twitter': 'https://twitter.com/thaicomplc',\n",
       "  'description': 'Thaicom is the name of a series of communications satellites operated from Thailand, and also the name of Thaicom Public Company Limited, which is the company that owns and operates the Thaicom satellite fleet and other telecommunication businesses in Thailand and throughout the Asia-Pacific region. The satellite projects were named Thaicom by the King of Thailand, His Majesty the King Bhumibol Adulyadej, as a symbol of the linkage between Thailand and modern communications technology.'},\n",
       " {'mission_name': 'Telstar',\n",
       "  'mission_id': 'F4F83DE',\n",
       "  'manufacturers': ['SSL'],\n",
       "  'payload_ids': ['Telstar 19V', 'Telstar 18V'],\n",
       "  'wikipedia': 'https://en.wikipedia.org/wiki/Telesat',\n",
       "  'website': 'https://www.telesat.com/',\n",
       "  'twitter': None,\n",
       "  'description': 'Telstar 19V (Telstar 19 Vantage) is a communication satellite in the Telstar series of the Canadian satellite communications company Telesat. It was built by Space Systems Loral (MAXAR) and is based on the SSL-1300 bus. As of 26 July 2018, Telstar 19V is the heaviest commercial communications satellite ever launched, weighing at 7,076 kg (15,600 lbs) and surpassing the previous record, set by TerreStar-1 (6,910 kg/15230lbs), launched by Ariane 5ECA on 1 July 2009.'},\n",
       " {'mission_name': 'Iridium NEXT',\n",
       "  'mission_id': 'F3364BF',\n",
       "  'manufacturers': ['Orbital ATK'],\n",
       "  'payload_ids': ['Iridium NEXT 1',\n",
       "   'Iridium NEXT 2',\n",
       "   'Iridium NEXT 3',\n",
       "   'Iridium NEXT 4',\n",
       "   'Iridium NEXT 5',\n",
       "   'Iridium NEXT 6',\n",
       "   'Iridium NEXT 7',\n",
       "   'Iridium NEXT 8'],\n",
       "  'wikipedia': 'https://en.wikipedia.org/wiki/Iridium_satellite_constellation',\n",
       "  'website': 'https://www.iridiumnext.com/',\n",
       "  'twitter': 'https://twitter.com/IridiumBoss?lang=en',\n",
       "  'description': \"In 2017, Iridium began launching Iridium NEXT, a second-generation worldwide network of telecommunications satellites, consisting of 66 active satellites, with another nine in-orbit spares and six on-ground spares. These satellites will incorporate features such as data transmission that were not emphasized in the original design. The constellation will provide L-band data speeds of up to 128 kbit/s to mobile terminals, up to 1.5 Mbit/s to Iridium Pilot marine terminals, and high-speed Ka-band service of up to 8 Mbit/s to fixed/transportable terminals. The next-generation terminals and service are expected to be commercially available by the end of 2018. However, Iridium's proposed use of its next-generation satellites has raised concerns the service will harmfully interfere with GPS devices. The satellites will incorporate a secondary payload for Aireon, a space-qualified ADS-B data receiver. This is for use by air traffic control and, via FlightAware, for use by airlines. A tertiary payload on 58 satellites is a marine AIS ship-tracker receiver, for Canadian company exactEarth Ltd. Iridium can also be used to provide a data link to other satellites in space, enabling command and control of other space assets regardless of the position of ground stations and gateways.\"},\n",
       " {'mission_name': 'Commercial Resupply Services',\n",
       "  'mission_id': 'EE86F74',\n",
       "  'manufacturers': ['SpaceX'],\n",
       "  'payload_ids': ['Dragon Qualification Unit',\n",
       "   'COTS Demo Flight 1',\n",
       "   'COTS Demo Flight 2',\n",
       "   'SpaceX CRS-1',\n",
       "   'SpaceX CRS-2',\n",
       "   'SpaceX CRS-3',\n",
       "   'SpaceX CRS-4',\n",
       "   'SpaceX CRS-5',\n",
       "   'SpaceX CRS-6',\n",
       "   'SpaceX CRS-7',\n",
       "   'SpaceX CRS-8',\n",
       "   'SpaceX CRS-9',\n",
       "   'SpaceX CRS-10',\n",
       "   'SpaceX CRS-11',\n",
       "   'SpaceX CRS-12',\n",
       "   'SpaceX CRS-13',\n",
       "   'SpaceX CRS-14',\n",
       "   'SpaceX CRS-15'],\n",
       "  'wikipedia': 'https://en.wikipedia.org/wiki/Commercial_Resupply_Services#SpaceX',\n",
       "  'website': 'https://www.spacex.com/',\n",
       "  'twitter': 'https://twitter.com/SpaceX',\n",
       "  'description': 'Commercial Resupply Services (CRS) are a series of contracts awarded by NASA from 2008–2016 for delivery of cargo and supplies to the International Space Station (ISS) on commercially operated spacecraft. The first CRS contracts were signed in 2008 and awarded $1.6 billion to SpaceX for 12 cargo transport missions and $1.9 billion to Orbital Sciences for 8 missions, covering deliveries to 2016. In 2015, NASA extended the Phase 1 contracts by ordering an additional three resupply flights from SpaceX and one from Orbital Sciences. After additional extensions late in 2015, SpaceX is currently scheduled to have a total of 20 missions and Orbital 10. SpaceX began flying resupply missions in 2012, using Dragon cargo spacecraft launched on Falcon 9 rockets from Space Launch Complex 40 at Cape Canaveral Air Force Station, Cape Canaveral, Florida. Orbital Sciences began deliveries in 2013 using Cygnus spacecraft launched on the Antares rocket from Launch Pad 0A at the Mid-Atlantic Regional Spaceport (MARS), Wallops Island, Virginia. A second phase of contracts (known as CRS2) were solicited and proposed in 2014. They were awarded in January 2016 to Orbital ATK, Sierra Nevada Corporation, and SpaceX, for cargo transport flights beginning in 2019 and expected to last through 2024.'},\n",
       " {'mission_name': 'SES',\n",
       "  'mission_id': '6C42550',\n",
       "  'manufacturers': ['Orbital ATK', 'Boeing', 'Airbus Defence and Space'],\n",
       "  'payload_ids': ['SES-8', 'SES-9', 'SES-10', 'SES-11', 'SES-16', 'SES-12'],\n",
       "  'wikipedia': 'https://en.wikipedia.org/wiki/SES_S.A.',\n",
       "  'website': 'https://www.ses.com/',\n",
       "  'twitter': 'https://twitter.com/SES_Satellites',\n",
       "  'description': 'SES S.A. is a communications satellite owner and operator providing video and data connectivity worldwide to broadcasters, content and internet service providers, mobile and fixed network operators, governments and institutions, with a mission to “connect, enable, and enrich”. SES operates more than 50 geostationary orbit satellites and 16 medium Earth orbit satellites. These comprise the well-known European Astra TV satellites, the O3b data satellites and others with names including AMC, Ciel, NSS, Quetzsat, YahSat and SES.'},\n",
       " {'mission_name': 'JCSAT',\n",
       "  'mission_id': 'FE3533D',\n",
       "  'manufacturers': ['SSL'],\n",
       "  'payload_ids': ['JCSAT-2B', 'JCSAT-16'],\n",
       "  'wikipedia': 'https://en.wikipedia.org/wiki/JSAT_Corporation',\n",
       "  'website': 'https://www.jsat.net/en/',\n",
       "  'twitter': None,\n",
       "  'description': 'The JSAT constellation is a communication and broadcasting satellite constellation formerly operated by JSAT Corporation and currently by SKY Perfect JSAT Group. It has become the most important commercial constellation in Japan, and the fifth of the world. It has practically amalgamated all private satellite operators in Japan, with only B-SAT left as a local competitor.'},\n",
       " {'mission_name': 'AsiaSat',\n",
       "  'mission_id': '593B499',\n",
       "  'manufacturers': ['SSL'],\n",
       "  'payload_ids': ['AsiaSat 8', 'AsiaSat 6'],\n",
       "  'wikipedia': 'https://en.wikipedia.org/wiki/AsiaSat',\n",
       "  'website': 'https://www.asiasat.com/',\n",
       "  'twitter': 'https://twitter.com/asia_satellite',\n",
       "  'description': 'Asia Satellite Telecommunications Holdings Limited known as its brand name AsiaSat is a commercial operator of communication spacecraft. AsiaSat is based in Hong Kong but incorporated in Bermuda.'},\n",
       " {'mission_name': 'Orbcomm OG2',\n",
       "  'mission_id': 'CE91D46',\n",
       "  'manufacturers': ['Sierra Nevada Corporation'],\n",
       "  'payload_ids': ['Orbcomm-OG2', 'Orbcomm-OG2-M1', 'Orbcomm-OG2-M2'],\n",
       "  'wikipedia': 'https://en.wikipedia.org/wiki/Orbcomm_(satellite)#Orbcomm-OG2',\n",
       "  'website': 'https://www.orbcomm.com/',\n",
       "  'twitter': 'https://twitter.com/orbcomm_inc',\n",
       "  'description': 'Orbcomm Generation 2 (OG2) second-generation satellites are intended to supplement and eventually replace the current first generation constellation. Eighteen satellites were ordered by 2008—nominally intended to be launched in three groups of six during 2010–2014—and by 2015 have all been launched, on three flights. Orbcomm has options for a further thirty OG2 spacecraft. The satellites were launched by SpaceX on the Falcon 9 launch system. Originally, they were to launch on the smaller Falcon 1e rocket.'},\n",
       " {'mission_name': 'ABS',\n",
       "  'mission_id': '2CF444A',\n",
       "  'manufacturers': ['Boeing'],\n",
       "  'payload_ids': ['ABS-3A', 'ABS-3B'],\n",
       "  'wikipedia': 'https://en.wikipedia.org/wiki/ABS_(satellite_operator)',\n",
       "  'website': 'http://www.absatellite.com/',\n",
       "  'twitter': None,\n",
       "  'description': 'ABS, formerly Asia Broadcast Satellite, is a global satellite operator based in Hong Kong and officially incorporated in Bermuda. Its services include direct-to-home and satellite-to-cable TV distribution, cellular services, and internet services. Operating 6 communication satellites, the satellite fleet currently covers 93% of the world’s population including the Americas, Africa, Asia Pacific, Europe, the Middle East, Russia and Commonwealth of Independent States.'},\n",
       " {'mission_name': 'Eutelsat',\n",
       "  'mission_id': 'F7709F2',\n",
       "  'manufacturers': ['Boeing'],\n",
       "  'payload_ids': ['Eutelsat 115 West B', 'Eutelsat 117 West B'],\n",
       "  'wikipedia': 'https://en.wikipedia.org/wiki/Eutelsat',\n",
       "  'website': 'https://www.eutelsat.com/en/home.html#',\n",
       "  'twitter': 'https://twitter.com/Eutelsat_SA?ref_src=twsrc%5Egoogle%7Ctwcamp%5Eserp%7Ctwgr%5Eauthor',\n",
       "  'description': \"Eutelsat S.A. is a European satellite operator. Providing coverage over the entire European continent, the Middle East, Africa, Asia and the Americas, it is the world's third largest satellite operator in terms of revenues.\"}]"
      ]
     },
     "execution_count": 8,
     "metadata": {},
     "output_type": "execute_result"
    }
   ],
   "source": [
    "#Mission Url\n",
    "\n",
    "#URL for GET requests to retrieve vehicle data\n",
    "url = \"https://api.spacexdata.com/v3/missions/\"\n",
    "response = requests.get(url).json()\n",
    "response"
   ]
  },
  {
   "cell_type": "code",
   "execution_count": 10,
   "metadata": {},
   "outputs": [
    {
     "name": "stdout",
     "output_type": "stream",
     "text": [
      "{\n",
      "    \"description\": \"SES S.A. is a communications satellite owner and operator providing video and data connectivity worldwide to broadcasters, content and internet service providers, mobile and fixed network operators, governments and institutions, with a mission to \\u201cconnect, enable, and enrich\\u201d. SES operates more than 50 geostationary orbit satellites and 16 medium Earth orbit satellites. These comprise the well-known European Astra TV satellites, the O3b data satellites and others with names including AMC, Ciel, NSS, Quetzsat, YahSat and SES.\",\n",
      "    \"manufacturers\": [\n",
      "        \"Orbital ATK\",\n",
      "        \"Boeing\",\n",
      "        \"Airbus Defence and Space\"\n",
      "    ],\n",
      "    \"mission_id\": \"6C42550\",\n",
      "    \"mission_name\": \"SES\",\n",
      "    \"payload_ids\": [\n",
      "        \"SES-8\",\n",
      "        \"SES-9\",\n",
      "        \"SES-10\",\n",
      "        \"SES-11\",\n",
      "        \"SES-16\",\n",
      "        \"SES-12\"\n",
      "    ],\n",
      "    \"twitter\": \"https://twitter.com/SES_Satellites\",\n",
      "    \"website\": \"https://www.ses.com/\",\n",
      "    \"wikipedia\": \"https://en.wikipedia.org/wiki/SES_S.A.\"\n",
      "}\n"
     ]
    }
   ],
   "source": [
    "# Pretty print JSON for a specific launchpad\n",
    "response = requests.get(url + \"6C42550\").json()\n",
    "print(json.dumps(response, indent=4, sort_keys=True))"
   ]
  },
  {
   "cell_type": "code",
   "execution_count": null,
   "metadata": {},
   "outputs": [],
   "source": []
  }
 ],
 "metadata": {
  "kernelspec": {
   "display_name": "Python 3",
   "language": "python",
   "name": "python3"
  },
  "language_info": {
   "codemirror_mode": {
    "name": "ipython",
    "version": 3
   },
   "file_extension": ".py",
   "mimetype": "text/x-python",
   "name": "python",
   "nbconvert_exporter": "python",
   "pygments_lexer": "ipython3",
   "version": "3.8.5"
  },
  "varInspector": {
   "cols": {
    "lenName": 16,
    "lenType": 16,
    "lenVar": 40
   },
   "kernels_config": {
    "python": {
     "delete_cmd_postfix": "",
     "delete_cmd_prefix": "del ",
     "library": "var_list.py",
     "varRefreshCmd": "print(var_dic_list())"
    },
    "r": {
     "delete_cmd_postfix": ") ",
     "delete_cmd_prefix": "rm(",
     "library": "var_list.r",
     "varRefreshCmd": "cat(var_dic_list()) "
    }
   },
   "types_to_exclude": [
    "module",
    "function",
    "builtin_function_or_method",
    "instance",
    "_Feature"
   ],
   "window_display": false
  }
 },
 "nbformat": 4,
 "nbformat_minor": 2
}
